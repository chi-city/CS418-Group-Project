{
 "cells": [
  {
   "cell_type": "markdown",
   "metadata": {},
   "source": [
    "# Welcome to Zohaib's Crime Data Zoo!"
   ]
  },
  {
   "cell_type": "markdown",
   "metadata": {},
   "source": [
    "## Data Gathering & Pre-Processing!\n",
    "### First, import modules."
   ]
  },
  {
   "cell_type": "code",
   "execution_count": null,
   "metadata": {},
   "outputs": [],
   "source": [
    "import pandas as pd\n",
    "import numpy as np\n",
    "import matplotlib.pyplot as plt\n",
    "from sklearn.model_selection import train_test_split\n",
    "from sklearn.preprocessing import StandardScaler\n",
    "from sklearn.metrics import classification_report, confusion_matrix, accuracy_score\n",
    "from sklearn.ensemble import RandomForestClassifier\n"
   ]
  },
  {
   "cell_type": "markdown",
   "metadata": {},
   "source": [
    "### Data Gathering."
   ]
  },
  {
   "cell_type": "code",
   "execution_count": null,
   "metadata": {},
   "outputs": [],
   "source": [
    "chicagoDF = pd.read_csv('file1.csv')\n",
    "losAngelesDF = pd.read_csv('file2.csv')"
   ]
  },
  {
   "cell_type": "markdown",
   "metadata": {},
   "source": [
    "#### Understanding structure of each dataset."
   ]
  },
  {
   "cell_type": "code",
   "execution_count": null,
   "metadata": {},
   "outputs": [],
   "source": [
    "chicagoDF.head()\n",
    "chicagoDF.info()\n",
    "chicagoDF.describe()\n"
   ]
  },
  {
   "cell_type": "code",
   "execution_count": null,
   "metadata": {},
   "outputs": [],
   "source": [
    "losAngelesDF.head()\n",
    "losAngelesDF.info()\n",
    "losAngelesDF.describe()\n"
   ]
  },
  {
   "cell_type": "markdown",
   "metadata": {},
   "source": [
    "#### Data Preprocessing."
   ]
  },
  {
   "cell_type": "code",
   "execution_count": null,
   "metadata": {},
   "outputs": [],
   "source": [
    "# Handling Missing Values\n",
    "chicagoDF.dropna(inplace=True)\n",
    "losAngelesDF.dropna(inplace=True)\n",
    "\n",
    "# Scaling Numeric Features (if needed)\n",
    "scaler = StandardScaler()\n",
    "chicagoDF[['Longitude']] = scaler.fit_transform(chicagoDF[['Longitude']])\n",
    "losAngelesDF[['Longitude']] = scaler.transform(losAngelesDF[['Longitude']])\n"
   ]
  },
  {
   "cell_type": "markdown",
   "metadata": {},
   "source": [
    "#### Do some ML.\n",
    "##### Data Split."
   ]
  },
  {
   "cell_type": "code",
   "execution_count": null,
   "metadata": {},
   "outputs": [],
   "source": [
    "X1 = chicagoDF.drop('Longitude', axis=1)\n",
    "y1 = chicagoDF['Longitude']\n",
    "X2 = losAngelesDF.drop('Longitude', axis=1)\n",
    "y2 = losAngelesDF['Longitude']\n",
    "\n",
    "X1_train, X1_test, y1_train, y1_test = train_test_split(X1, y1, test_size=0.2, random_state=42)\n",
    "X2_train, X2_test, y2_train, y2_test = train_test_split(X2, y2, test_size=0.2, random_state=42)\n"
   ]
  },
  {
   "cell_type": "markdown",
   "metadata": {},
   "source": [
    "##### Machine Learn"
   ]
  },
  {
   "cell_type": "code",
   "execution_count": null,
   "metadata": {},
   "outputs": [],
   "source": [
    "# Model for chi\n",
    "model1 = RandomForestClassifier()\n",
    "model1.fit(X1_train, y1_train)\n",
    "y1_pred = model1.predict(X1_test)\n",
    "\n",
    "# Model for la\n",
    "model2 = RandomForestClassifier()\n",
    "model2.fit(X2_train, y2_train)\n",
    "y2_pred = model2.predict(X2_test)\n"
   ]
  },
  {
   "cell_type": "markdown",
   "metadata": {},
   "source": [
    "##### Evaluation & CHARTS."
   ]
  },
  {
   "cell_type": "code",
   "execution_count": null,
   "metadata": {},
   "outputs": [],
   "source": [
    "# Evaluation for data1\n",
    "print(\"Model 1 Evaluation:\")\n",
    "print(\"Accuracy:\", accuracy_score(y1_test, y1_pred))\n",
    "print(\"Confusion Matrix:\")\n",
    "print(confusion_matrix(y1_test, y1_pred))\n",
    "print(\"Classification Report:\")\n",
    "print(classification_report(y1_test, y1_pred))\n",
    "\n",
    "# Evaluation for data2\n",
    "print(\"\\nModel 2 Evaluation:\")\n",
    "print(\"Accuracy:\", accuracy_score(y2_test, y2_pred))\n",
    "print(\"Confusion Matrix:\")\n",
    "print(confusion_matrix(y2_test, y2_pred))\n",
    "print(\"Classification Report:\")\n",
    "print(classification_report(y2_test, y2_pred))\n"
   ]
  },
  {
   "cell_type": "code",
   "execution_count": null,
   "metadata": {},
   "outputs": [],
   "source": [
    "# Example of a histogram\n",
    "plt.hist(chicagoDF['numeric_column'], bins=20, alpha=0.5, label='Chicago')\n",
    "plt.hist(losAngelesDF['numeric_column'], bins=20, alpha=0.5, label='Los Angeles')\n",
    "plt.legend()\n",
    "plt.xlabel('Numeric Column')\n",
    "plt.ylabel('Frequency')\n",
    "plt.title('Distribution of Numeric Column')\n",
    "plt.show()"
   ]
  }
 ],
 "metadata": {
  "language_info": {
   "name": "python"
  }
 },
 "nbformat": 4,
 "nbformat_minor": 2
}

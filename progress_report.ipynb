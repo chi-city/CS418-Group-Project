{
 "cells": [
  {
   "cell_type": "markdown",
   "metadata": {},
   "source": [
    "# Progress Report\n",
    "\n",
    "### GitHub Repository: \n",
    "https://github.com/chi-city/CS418-Group-Project\n",
    "\n",
    "### Group members:\n",
    "Alex Castillo, Zaid Awaidah, Zohaib Akram, Peter Rantisi, Joel Christian"
   ]
  },
  {
   "cell_type": "markdown",
   "metadata": {},
   "source": [
    "## Product introduction:"
   ]
  },
  {
   "cell_type": "markdown",
   "metadata": {},
   "source": [
    "## Any changes since the proposal:"
   ]
  },
  {
   "cell_type": "markdown",
   "metadata": {},
   "source": [
    "## Data:"
   ]
  },
  {
   "cell_type": "markdown",
   "metadata": {},
   "source": [
    "## Exploratory data analysis:"
   ]
  },
  {
   "cell_type": "markdown",
   "metadata": {},
   "source": [
    "## Visualizations:"
   ]
  },
  {
   "cell_type": "markdown",
   "metadata": {},
   "source": [
    "## ML analyses:"
   ]
  },
  {
   "cell_type": "markdown",
   "metadata": {},
   "source": [
    "## Reflection:\n",
    "\n",
    "- What is the most challenging part of the project that you’ve encountered so far?\n",
    "    - RESPONSE HERE\n",
    "<br><br>\n",
    "- What are your initial insights?\n",
    "    - RESPONSE HERE\n",
    "<br><br>\n",
    "- Are there any concrete results you can show at this point? If not, why not?\n",
    "    - RESPONSE HERE\n",
    "<br><br>\n",
    "- Going forward, what are the current biggest problems you’re facing?\n",
    "    - RESPONSE HERE\n",
    "<br><br>\n",
    "- Do you think you are on track with your project? If not, what parts do you need to dedicate more time to?\n",
    "    - RESPONSE HERE\n",
    "<br><br>\n",
    "- Given your initial exploration of the data, is it worth proceeding with your project, why? If not, how will you move forward (method, data etc)?\n",
    "    - RESPONSE HERE\n",
    "<br><br>"
   ]
  },
  {
   "cell_type": "markdown",
   "metadata": {},
   "source": [
    "## Next steps:"
   ]
  }
 ],
 "metadata": {
  "language_info": {
   "name": "python"
  }
 },
 "nbformat": 4,
 "nbformat_minor": 2
}

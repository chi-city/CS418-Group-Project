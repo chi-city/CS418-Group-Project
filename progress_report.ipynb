{
 "cells": [
  {
   "cell_type": "markdown",
   "metadata": {},
   "source": [
    "# Progress Report\n",
    "\n",
    "### GitHub Repository: \n",
    "https://github.com/chi-city/CS418-Group-Project\n",
    "\n",
    "### Group members:\n",
    "Alex Castillo, Zaid Awaidah, Zohaib Akram, Peter Rantisi, Joel Christian"
   ]
  },
  {
   "cell_type": "markdown",
   "metadata": {},
   "source": [
    "## Product introduction:"
   ]
  },
  {
   "cell_type": "markdown",
   "metadata": {},
   "source": [
    "The urban landscape of major cities in the United States is marked by the coexistence of diversity and challenges.\n",
    "\n",
    "Among these challenges, crime is an issue of major importance because it directly impacts the safety and well-being of locals and visitors.\n",
    "\n",
    "What we aim to do with this project is study, analyze, and compare crime data from the year 2022 in two major cities in the US - Chicago and Los Angeles.\n",
    "\n",
    "Our goal is to identify patterns and trends within the datasets to aid in crime prevention and intervention, particularly in the context of public transportation.\n",
    "\n",
    "**The Problem:**\n",
    "\n",
    "Cities like Chicago and Los Angeles are diverse, thriving communities with complex dynamics.\n",
    "\n",
    "The lack of comprehenseive, comparative analysis of crime data across both cities poses a significant threat to the locals.\n",
    "\n",
    "Our project aims to address this void by analyzing crime data in these two major cities in order to uncover the intricate web of criminal activies around public transportation.\n",
    "\n",
    "Our investigation hinges on understanding the nature, frequency, and geographical distribution of crimes in order to devise effective policies and law enforcement strategies.\n",
    "\n",
    "Plus, we seek to identify how varying levels of public transportation infrastructure influences the type and frequency of crimes with the served areas.\n",
    "\n",
    "**Key Research Questions:**\n",
    "\n",
    "The questions we seek to answer:\n",
    "\n",
    "1. What types of crimes dominate each city, and how do these patterns change within the vicinity of public transit services?\n",
    "\n",
    "2. How does the frequency of different crimes fluctuate throughout the year in these cities?\n",
    "\n",
    "3. Are specific neighborhoods or districts more susceptible to certain types of crimes? How extensive is the reach of public transportation within these areas?\n",
    "\n",
    "4. Is there a correlation between crime prevalence and the level of public transit ridership?\n",
    "\n",
    "5. To what extent does public transit frequency correlate with crime rates in particular areas?\n",
    "\n",
    "**Project Significance:**\n",
    "\n",
    "This project provides a data-driven perspective on crime in the two major cities.\n",
    "\n",
    "This can lead to more informed discussions about public safety, law enforcement, and community development.\n",
    "\n",
    "**Reasons For Choosing This Project:**\n",
    "\n",
    "Even though crime rates in Chicago have decreased, their prevalence is still felt each year.\n",
    "\n",
    "With UIC being a commuter school, many students rely on public transit to get to and from campus, and thus, addressing crime in areas served by public transportation is of paramount importance to student safety.\n",
    "\n",
    "**The Hypothesis:**\n",
    "\n",
    "We hypothesize that the data will reveal significant disparities in the types and frequencies of crimes between Chicago and Los Angeles.\n",
    "\n",
    "We attribute these differences to a variety of factors, including population density, socio-economic conditions, law enforcement practices, climatic variations, and the quality of public transportation infrastructure in each city.\n",
    "\n",
    "We aim to substantiate these hypothesis with empirical evidence and, in doing so, make significant contributions to the fields of urban studies, law enforcement, and public safety.\n",
    "\n"
   ]
  },
  {
   "cell_type": "markdown",
   "metadata": {},
   "source": [
    "## Any changes since the proposal:"
   ]
  },
  {
   "cell_type": "markdown",
   "metadata": {},
   "source": [
    "**Not much has changed about the scope of our project. What we discussed during the proposal is what we plan to cover in our project.**"
   ]
  },
  {
   "cell_type": "markdown",
   "metadata": {},
   "source": [
    "## Data:"
   ]
  },
  {
   "cell_type": "markdown",
   "metadata": {},
   "source": [
    "\n",
    "For data preparation, we followed a systematic approach. Firstly, we obtained comprehensive crime data directly from the official websites of the City of Chicago and Los Angeles in the form of CSV files.\n",
    "These datasets contain crucial details such as the date of each crime, a unique crime code specific to each city, information on whether an arrest was made, and the precise geographic coordinates (latitude and longitude) of each crime occurrence.\n",
    "\n",
    "To manage the substantial volume of data and ensure relevance to our analysis, we narrowed our focus to crimes that occurred exclusively in the year 2022.\n",
    "\n",
    "Additionally, we obtained public transportation datasets from public sources. Leveraging the geographic coordinates of public transit stops, we utilize distance algorithms to identify whether a crime occurred within the close proximity of areas served by public transportation. This comprehensive data preparation process serves as a crucial foundation for our subsequent analytical and machine learning tasks."
   ]
  },
  {
   "cell_type": "markdown",
   "metadata": {},
   "source": [
    "## Exploratory data analysis:\n",
    "\n",
    "Currently, our data is broken up into multiple CSV files.\n",
    "\n",
    "We have two crime datasets, one for Chicago and one for LA which have been filtered down to only include data from the year 2022. We have left everything else in the dataset alone, as we want to maintain the flexibility of potentially investigiating the how other factors may influence crime.\n",
    "\n",
    "Additionally, we have CSV files for both Chicago and LA which contain the stations and their coordinates along train/rail routes (we are currently not planning on investigating bus routes). We also have the ridership data for each line, however, only for Chicago do we have the individual station ridsership counts. We do not have this data for Los Angeles as they seem to only provide the ridership of the entire line.\n"
   ]
  },
  {
   "cell_type": "markdown",
   "metadata": {},
   "source": [
    "## Visualizations:"
   ]
  },
  {
   "cell_type": "markdown",
   "metadata": {},
   "source": [
    "## ML analyses:"
   ]
  },
  {
   "cell_type": "markdown",
   "metadata": {},
   "source": [
    "## Reflection:\n",
    "\n",
    "- What is the most challenging part of the project that you’ve encountered so far?\n",
    "    - RESPONSE HERE\n",
    "<br><br>\n",
    "- What are your initial insights?\n",
    "    - RESPONSE HERE\n",
    "<br><br>\n",
    "- Are there any concrete results you can show at this point? If not, why not?\n",
    "    - RESPONSE HERE\n",
    "<br><br>\n",
    "- Going forward, what are the current biggest problems you’re facing?\n",
    "    - RESPONSE HERE\n",
    "<br><br>\n",
    "- Do you think you are on track with your project? If not, what parts do you need to dedicate more time to?\n",
    "    - RESPONSE HERE\n",
    "<br><br>\n",
    "- Given your initial exploration of the data, is it worth proceeding with your project, why? If not, how will you move forward (method, data etc)?\n",
    "    - RESPONSE HERE\n",
    "<br><br>"
   ]
  },
  {
   "cell_type": "markdown",
   "metadata": {},
   "source": [
    "## Next steps:"
   ]
  }
 ],
 "metadata": {
  "language_info": {
   "name": "python"
  }
 },
 "nbformat": 4,
 "nbformat_minor": 2
}
